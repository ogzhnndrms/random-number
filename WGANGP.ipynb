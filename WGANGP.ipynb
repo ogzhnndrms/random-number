{
 "cells": [
  {
   "cell_type": "code",
   "execution_count": null,
   "metadata": {
    "id": "77vTf17W89Qd"
   },
   "outputs": [],
   "source": [
    "%load_ext tensorboard"
   ]
  },
  {
   "cell_type": "code",
   "execution_count": null,
   "metadata": {
    "id": "YVce9ue5-F3Y"
   },
   "outputs": [],
   "source": [
    "%tensorboard --logdir <your log folder>"
   ]
  },
  {
   "cell_type": "code",
   "execution_count": 2,
   "metadata": {
    "id": "rNQr08-1Lsbm",
    "tags": []
   },
   "outputs": [],
   "source": [
    "import random\n",
    "import pickle\n",
    "import torch\n",
    "import numpy as np\n",
    "import pandas as pd\n",
    "import os\n",
    "import matplotlib.pyplot as plt\n",
    "\n",
    "from torch import nn, optim, autograd\n",
    "from sklearn.preprocessing import MinMaxScaler\n",
    "from math import cos, pi\n",
    "from datetime import datetime\n",
    "from torch.nn.utils.parametrizations import spectral_norm"
   ]
  },
  {
   "cell_type": "code",
   "execution_count": 3,
   "metadata": {
    "colab": {
     "base_uri": "https://localhost:8080/"
    },
    "id": "66WGnPIdMGoy",
    "outputId": "7937552a-0cee-495c-b4d2-4ab5263bf45b",
    "tags": []
   },
   "outputs": [
    {
     "name": "stdout",
     "output_type": "stream",
     "text": [
      "Device is cuda:0\n"
     ]
    }
   ],
   "source": [
    "# Constants.\n",
    "INPUT_LAYER_DIM = 36\n",
    "INPUT_LAYER_OUT = 256\n",
    "SECOND_LAYER_OUT = 512\n",
    "THIRD_LAYER_OUT = 1024\n",
    "FOURTH_LAYER_OUT = 512\n",
    "FIFTH_LAYER_OUT = 256\n",
    "OUTPUT_LAYER_OUT = 36\n",
    "T_MIN, T_MAX = 0, 36\n",
    "BATCH_SIZE = 128\n",
    "R_MIN, R_MAX = 0, 1\n",
    "NUM_OF_SAMPLES = 2_000_000\n",
    "\n",
    "DATA_LOADER_CONFIG = {\n",
    "    \"batch_size\": BATCH_SIZE,\n",
    "    \"shuffle\": True,\n",
    "    \"num_workers\": 4\n",
    "}\n",
    "\n",
    "# CUDA for PyTorch\n",
    "use_cuda = torch.cuda.is_available()\n",
    "DEVICE = torch.device(\"cuda:0\" if use_cuda else \"cpu\")\n",
    "torch.backends.cudnn.benchmark = True\n",
    "print(f\"Device is {DEVICE}\")\n",
    "\n",
    "LOG_DIR = \"/root/odev/logs/\" + datetime.now().strftime(\"%d-%m-%Y-%H%M%S\")\n",
    "GENERATOR_MODEL_PATH = \"/root/odev/generator/\"\n",
    "DISCRIMINATOR_MODEL_PATH = \"/root/odev/discriminator/\"\n",
    "IMAGE_PATH = \"/root/odev/images/\"\n",
    "\n",
    "torch.manual_seed(42)\n",
    "np.random.seed(42)\n",
    "random.seed(42)\n",
    "\n",
    "# Init Mersenne-Twister.\n",
    "mersenne_twister = random.Random(42)"
   ]
  },
  {
   "cell_type": "code",
   "execution_count": 4,
   "metadata": {
    "id": "rgIFexL_LZ5n",
    "tags": []
   },
   "outputs": [],
   "source": [
    "class Generator(nn.Module):\n",
    "\n",
    "    def __init__(self):\n",
    "        super(Generator, self).__init__()\n",
    "\n",
    "        self.net = nn.Sequential(\n",
    "            nn.Linear(INPUT_LAYER_DIM, INPUT_LAYER_OUT),\n",
    "            nn.LeakyReLU(True),\n",
    "            nn.Linear(INPUT_LAYER_OUT, SECOND_LAYER_OUT),\n",
    "            nn.LeakyReLU(True),\n",
    "            nn.Linear(SECOND_LAYER_OUT, THIRD_LAYER_OUT),\n",
    "            nn.LeakyReLU(True),\n",
    "            nn.Linear(THIRD_LAYER_OUT, FOURTH_LAYER_OUT),\n",
    "            nn.LeakyReLU(True),\n",
    "            nn.Linear(FOURTH_LAYER_OUT, FIFTH_LAYER_OUT),\n",
    "            nn.LeakyReLU(True),\n",
    "            nn.Linear(FIFTH_LAYER_OUT, OUTPUT_LAYER_OUT),\n",
    "            nn.LeakyReLU()\n",
    "        )\n",
    "\n",
    "    def forward(self, x):\n",
    "        output = self.net(x)\n",
    "        return output.reshape(-1)"
   ]
  },
  {
   "cell_type": "code",
   "execution_count": 5,
   "metadata": {
    "id": "h3gpqYzCPy9S",
    "tags": []
   },
   "outputs": [],
   "source": [
    "class Discriminator(nn.Module):\n",
    "\n",
    "    def __init__(self):\n",
    "        super(Discriminator, self).__init__()\n",
    "\n",
    "        self.net = nn.Sequential(\n",
    "            # TODO: Burada kalmıştık.\n",
    "            spectral_norm(nn.Linear(INPUT_LAYER_DIM, INPUT_LAYER_OUT)),\n",
    "            nn.LeakyReLU(True),\n",
    "            spectral_norm(nn.Linear(INPUT_LAYER_OUT, SECOND_LAYER_OUT)),\n",
    "            nn.LeakyReLU(True),\n",
    "            spectral_norm(nn.Linear(SECOND_LAYER_OUT, THIRD_LAYER_OUT)),\n",
    "            nn.LeakyReLU(True),\n",
    "            spectral_norm(nn.Linear(THIRD_LAYER_OUT, FOURTH_LAYER_OUT)),\n",
    "            nn.LeakyReLU(True),\n",
    "            spectral_norm(nn.Linear(FOURTH_LAYER_OUT, FIFTH_LAYER_OUT)),\n",
    "            nn.LeakyReLU(True),\n",
    "            spectral_norm(nn.Linear(FIFTH_LAYER_OUT, 1)),\n",
    "            nn.Sigmoid(),\n",
    "        )\n",
    "\n",
    "    def forward(self, z):\n",
    "        output = self.net(z)\n",
    "        return output"
   ]
  },
  {
   "cell_type": "code",
   "execution_count": 6,
   "metadata": {
    "id": "yRYFSTQqeDzh",
    "tags": []
   },
   "outputs": [],
   "source": [
    "def gradient_penalty(Disc, xr, xf):\n",
    "    \"\"\"\n",
    "    :param D:\n",
    "    :param xr: [b, 2]\n",
    "    :param xf: [b, 2]\n",
    "    :return:\n",
    "    \"\"\"\n",
    "    # [b, 1]\n",
    "    t = torch.rand(BATCH_SIZE, 1).cuda()\n",
    "    # [b, 1] => [b, 2]  broadcasting so t is the same for x1 and x2\n",
    "    t = t.expand_as(xr)\n",
    "    # interpolation\n",
    "    mid = (t * xr) + ((1 - t) * xf)\n",
    "    # set it to require grad info\n",
    "    mid.requires_grad_()\n",
    "    pred = Disc(mid)\n",
    "    grads = autograd.grad(\n",
    "        outputs=pred,\n",
    "        inputs=mid,\n",
    "        grad_outputs=torch.ones_like(pred),\n",
    "        create_graph=True,\n",
    "        retain_graph=True,\n",
    "        only_inputs=True)[0]\n",
    "\n",
    "    # Yeni ekledim.\n",
    "    grads = grads.reshape([xr.shape[0], -1])\n",
    "\n",
    "    gp = torch.pow(grads.norm(2, dim=1) - 1, 2).mean()\n",
    "    return gp"
   ]
  },
  {
   "cell_type": "markdown",
   "metadata": {
    "id": "LZnfdb_udxxt"
   },
   "source": [
    "# Data"
   ]
  },
  {
   "cell_type": "markdown",
   "metadata": {
    "id": "26DrqOv5SqTq",
    "tags": []
   },
   "source": [
    "## Create dataset and save it to google drive (doktora_data)"
   ]
  },
  {
   "cell_type": "code",
   "execution_count": 12,
   "metadata": {
    "id": "A6M0qI80bi1z",
    "tags": []
   },
   "outputs": [],
   "source": [
    "# Scale between .0 and 1\n",
    "def scale(num):\n",
    "    scaled_num = num - .5\n",
    "    return scaled_num"
   ]
  },
  {
   "cell_type": "code",
   "execution_count": 17,
   "metadata": {
    "id": "0MN2EXblOmCe",
    "tags": []
   },
   "outputs": [],
   "source": [
    "# Generate data.\n",
    "def generate_data():\n",
    "    data = []\n",
    "    for el in range(NUM_OF_SAMPLES):\n",
    "        r_1 = random.random()\n",
    "        r_2 = random.random()\n",
    "        temp = []\n",
    "        for t in range(T_MIN, T_MAX):\n",
    "            temp.append(scale((cos((2 * r_1 * pi * t) + (2 * r_2 * pi)) * .5) + 1))\n",
    "        data.append(torch.tensor(temp, dtype=torch.float64))\n",
    "    return data\n",
    "\n",
    "random_number_data_set = generate_data()\n",
    "\n",
    "with open(\"/root/odev/data/tensor_data_list.pkl\", \"wb\") as f:\n",
    "    pickle.dump(random_number_data_set, f)"
   ]
  },
  {
   "cell_type": "markdown",
   "metadata": {
    "id": "hoFjqB3lWWTV",
    "tags": []
   },
   "source": [
    "## Read data from google drive."
   ]
  },
  {
   "cell_type": "code",
   "execution_count": 12,
   "metadata": {
    "id": "zHFkpNbuWZeL",
    "tags": []
   },
   "outputs": [],
   "source": [
    "# Non-random number dataset.\n",
    "with open(\"/root/odev/data/tensor_data_list.pkl\", \"rb\") as f:\n",
    "    random_number_data_set = pickle.load(f)\n"
   ]
  },
  {
   "cell_type": "code",
   "execution_count": 13,
   "metadata": {
    "id": "RkEIiLQSERbs",
    "tags": []
   },
   "outputs": [],
   "source": [
    "# Random number dataset.\n",
    "with open(\"/root/odev/data/mt_tensor_data_list.pkl\", \"rb\") as f:\n",
    "    mt_random_number_data_set = pickle.load(f)\n"
   ]
  },
  {
   "cell_type": "markdown",
   "metadata": {
    "id": "mKiI0spzDOOc",
    "tags": []
   },
   "source": [
    "## Create Mersenne Twister Dataset"
   ]
  },
  {
   "cell_type": "code",
   "execution_count": 18,
   "metadata": {
    "id": "-Xd9c_f-DzE5",
    "tags": []
   },
   "outputs": [],
   "source": [
    "# Generate data.\n",
    "def generate_mt_data():\n",
    "    data = []\n",
    "    for el in range(NUM_OF_SAMPLES):\n",
    "        temp = []\n",
    "        for t in range(T_MIN, T_MAX):\n",
    "            temp.append(mersenne_twister.random())\n",
    "        data.append(torch.tensor(temp, dtype=torch.float64))\n",
    "    return data\n",
    "\n",
    "mt_random_number_data_set = generate_mt_data()\n",
    "\n",
    "with open(\"/root/odev/data/mt_tensor_data_list.pkl\", \"wb\") as f:\n",
    "    pickle.dump(mt_random_number_data_set, f)"
   ]
  },
  {
   "cell_type": "markdown",
   "metadata": {
    "id": "gIQNvRJ3dtG2",
    "tags": []
   },
   "source": [
    "## Create dataset object."
   ]
  },
  {
   "cell_type": "code",
   "execution_count": 14,
   "metadata": {
    "id": "ESJufF3mWexU",
    "tags": []
   },
   "outputs": [],
   "source": [
    "class Dataset(torch.utils.data.Dataset):\n",
    "    def __init__(self, number_data):\n",
    "        self.data = number_data\n",
    "\n",
    "    def __len__(self):\n",
    "        return len(self.data)\n",
    "\n",
    "    def __getitem__(self, index):\n",
    "        # Select sample\n",
    "        return self.data[index]\n"
   ]
  },
  {
   "cell_type": "code",
   "execution_count": 15,
   "metadata": {
    "id": "yY7WmgD_Eu0o",
    "tags": []
   },
   "outputs": [],
   "source": [
    "training_set = Dataset(random_number_data_set)\n",
    "mt_set = Dataset(mt_random_number_data_set)\n",
    "\n",
    "training_generator = torch.utils.data.DataLoader(\n",
    "    training_set,\n",
    "    **DATA_LOADER_CONFIG\n",
    ")\n",
    "\n",
    "mt_generator = torch.utils.data.DataLoader(\n",
    "    mt_set,\n",
    "    **DATA_LOADER_CONFIG\n",
    ")"
   ]
  },
  {
   "cell_type": "markdown",
   "metadata": {
    "id": "nmRmmxxVdiu_",
    "tags": []
   },
   "source": [
    "## Data Visualization"
   ]
  },
  {
   "cell_type": "code",
   "execution_count": 16,
   "metadata": {
    "id": "_5LBYSBYVt72",
    "tags": []
   },
   "outputs": [],
   "source": [
    "def visualize_data(data):\n",
    "    plt.figure(figsize=(36,1))\n",
    "    data_reshaped = np.array(data).reshape(36, 1)\n",
    "    plt.imshow(data_reshaped.T, cmap='gray', interpolation='nearest', vmin=0, vmax=1)\n",
    "    plt.colorbar()\n",
    "    plt.show()"
   ]
  },
  {
   "cell_type": "code",
   "execution_count": 17,
   "metadata": {
    "id": "qMmiuCQ9boZH",
    "tags": []
   },
   "outputs": [],
   "source": [
    "def visualize_batch(data, title, epoch):\n",
    "    data_stacked = np.column_stack(data)\n",
    "    # plt.figure(figsize=(4,64))\n",
    "    plt.imshow(data_stacked.T, cmap='gray', interpolation='nearest', vmin=0, vmax=1)\n",
    "    plt.colorbar()\n",
    "    \n",
    "    path = IMAGE_PATH + f\"{title}-\" + f\"{epoch}.png\"\n",
    "    plt.savefig(path)\n",
    "    \n",
    "    plt.show()"
   ]
  },
  {
   "cell_type": "code",
   "execution_count": null,
   "metadata": {
    "colab": {
     "base_uri": "https://localhost:8080/"
    },
    "id": "REIVJjpbW8kx",
    "outputId": "974b0605-c543-4d91-c3bc-b2d9c5288de7",
    "tags": []
   },
   "outputs": [],
   "source": [
    "# Visualize for the first batch.\n",
    "visualize_batch(random_number_data_set[:1280], \"\", 1)"
   ]
  },
  {
   "cell_type": "markdown",
   "metadata": {
    "id": "zl2Bg0woU-sL"
   },
   "source": [
    "# Start training"
   ]
  },
  {
   "cell_type": "code",
   "execution_count": null,
   "metadata": {
    "id": "HIUgJxomG8xo"
   },
   "outputs": [],
   "source": [
    "# TODO: 1. Apply spectral_normalization to discriminator. [Done]\n",
    "# TODO: 2. NIST test for each 3000 epoch.\n",
    "# TODO: 3. Save images to a directory.\n",
    "# TODO: 4. RMSProp ile karşılaştırma.\n",
    "# TODO: 5. MT yerine cryptographically secure random number generator deneyeceğim."
   ]
  },
  {
   "cell_type": "code",
   "execution_count": 26,
   "metadata": {
    "id": "jnIDTjfFTbu_",
    "tags": []
   },
   "outputs": [],
   "source": [
    "def save_model(epoch, gen_state_dict, gen_optim_state_dict, gen_loss, gen_path, disc_state_dict, disc_optim_state_dict, disc_loss, disc_path):\n",
    "    # TODO: Refactor.\n",
    "    try:\n",
    "        # Save generator.\n",
    "        genarator_path_base = gen_path + datetime.now().strftime(\"%d-%m-%Y-%H%M%S\") + \"/\"\n",
    "        generator_path = genarator_path_base + \"generator.pth\"\n",
    "        \n",
    "        if not os.path.exists(genarator_path_base):\n",
    "            os.makedirs(genarator_path_base)\n",
    "            print(f\"Folder '{genarator_path_base}' created successfully.\")\n",
    "        \n",
    "        torch.save({\n",
    "            'epoch': epoch,\n",
    "            'model_state_dict': gen_state_dict,\n",
    "            'optimizer_state_dict': gen_optim_state_dict,\n",
    "            'loss': gen_loss,\n",
    "        }, generator_path)\n",
    "    except Exception as e:\n",
    "        print(e)\n",
    "    # Save discriminator.\n",
    "    try:\n",
    "        discriminator_path_base = disc_path + datetime.now().strftime(\"%d-%m-%Y-%H%M%S\") + \"/\"\n",
    "        discriminator_path = discriminator_path_base + \"discriminator.pth\"\n",
    "        \n",
    "        if not os.path.exists(discriminator_path_base):\n",
    "            os.makedirs(discriminator_path_base)\n",
    "            print(f\"Folder '{discriminator_path_base}' created successfully.\")\n",
    "        \n",
    "        torch.save({\n",
    "            'epoch': epoch,\n",
    "            'model_state_dict': disc_state_dict,\n",
    "            'optimizer_state_dict': disc_optim_state_dict,\n",
    "            'loss': disc_loss,\n",
    "        }, discriminator_path)\n",
    "        \n",
    "    except Exception as e:\n",
    "        print(e)\n"
   ]
  },
  {
   "cell_type": "code",
   "execution_count": 27,
   "metadata": {
    "colab": {
     "base_uri": "https://localhost:8080/",
     "height": 1000
    },
    "id": "l1MH2bh7Tr6F",
    "outputId": "a8b27524-1b5f-45f7-8d88-24383a42568b",
    "tags": []
   },
   "outputs": [
    {
     "name": "stdout",
     "output_type": "stream",
     "text": [
      "Iteration: 0\n",
      "(1.7532403469085693, -0.4784684181213379, 0)\n",
      "Pseudo random number:\n"
     ]
    },
    {
     "data": {
      "image/png": "[encoded data removed]",
      "text/plain": [
       "<Figure size 640x480 with 2 Axes>"
      ]
     },
     "metadata": {},
     "output_type": "display_data"
    },
    {
     "name": "stdout",
     "output_type": "stream",
     "text": [
      "Generated random number:\n"
     ]
    },
    {
     "data": {
      "image/png": "[encoded data removed]",
      "text/plain": [
       "<Figure size 640x480 with 2 Axes>"
      ]
     },
     "metadata": {},
     "output_type": "display_data"
    },
    {
     "name": "stdout",
     "output_type": "stream",
     "text": [
      "Folder '/root/odev/generator/25-12-2023-112549/' created successfully.\n",
      "Folder '/root/odev/discriminator/25-12-2023-112549/' created successfully.\n"
     ]
    }
   ],
   "source": [
    "def main():\n",
    "\n",
    "    # Load models.\n",
    "    Gen = Generator().to(DEVICE)\n",
    "    Disc = Discriminator().to(DEVICE)\n",
    "\n",
    "    # print(\"Generator\")\n",
    "    # print(Gen)\n",
    "    # print(\"Discriminator\")\n",
    "    # print(Disc)\n",
    "\n",
    "    optim_G = optim.Adam(Gen.parameters(), lr=0.0001, betas=(0.0, 0.9), weight_decay=2e-5)\n",
    "    optim_D = optim.Adam(Disc.parameters(), lr=0.0001, betas=(0.0, 0.9), weight_decay=2e-5)\n",
    "    # Visualize: viz.line([[0, 0]], [0], win='loss', opts=dict(title='loss', legend=['D', 'G']))\n",
    "    for iteration in range(1):\n",
    "        # Discriminator training.\n",
    "        for _ in range(5):  # train Discriminator 5 times.\n",
    "            # 1.1 train on real data\n",
    "            xr = next(enumerate(mt_generator))[1]\n",
    "            xr = xr.to(torch.float32).to(DEVICE)\n",
    "            # [b, 2] => [b, 1]\n",
    "            predr = Disc(xr)\n",
    "            lossr = -predr.mean()\n",
    "            # 1.2 train on fake data\n",
    "            # z=[b, 2]\n",
    "            z = next(enumerate(training_generator))[1]\n",
    "            z = z.to(torch.float32).to(DEVICE)\n",
    "            xf = Gen(z).detach()  # gradient would be passed down\n",
    "            xf = torch.reshape(xf, [BATCH_SIZE, 36])\n",
    "            predf = Disc(xf)\n",
    "            # min predf\n",
    "            lossf = predf.mean()\n",
    "            # 1.3 gradient penalty\n",
    "            gp = gradient_penalty(Disc, xr, xf.detach())\n",
    "            # aggregate all\n",
    "            # loss_D = lossr + lossf + 0.2 * gp\n",
    "            # Burayı yeni ekledim.\n",
    "            x_out = torch.cat([predr, predf])\n",
    "            loss_D = (lossr + lossf) + (gp * 2) + (x_out ** 10).mean() + .0001\n",
    "            # optimize\n",
    "            optim_D.zero_grad()\n",
    "            loss_D.backward()\n",
    "            optim_D.step()\n",
    "\n",
    "        # 2. train G\n",
    "        z = next(enumerate(training_generator))[1]\n",
    "        z = z.to(torch.float32).to(DEVICE)\n",
    "        xf = Gen(z)\n",
    "        xf = torch.reshape(xf, [BATCH_SIZE, 36])\n",
    "        predf = Disc(xf)\n",
    "        # maximize predf.mean()\n",
    "        loss_G = -predf.mean()\n",
    "        # optimize\n",
    "        optim_G.zero_grad()\n",
    "        loss_G.backward()\n",
    "        optim_G.step()\n",
    "        \n",
    "        print(f\"Iteration: {iteration}\")\n",
    "\n",
    "        if iteration % 100 == 0:\n",
    "            print((loss_D.item(), loss_G.item(), iteration))\n",
    "            # viz.line([[loss_D.item(), loss_G.item()]], [epoch], win='loss', update='append')\n",
    "            # print(loss_D.item(), loss_G.item())\n",
    "            print(\"Pseudo random number:\")\n",
    "            visualize_batch(xr.cpu().numpy(), \"Real Random number\", iteration)\n",
    "            print(\"Generated random number:\")\n",
    "            visualize_batch(z.cpu().numpy(), \"Generated Random number\", iteration)\n",
    "\n",
    "        if iteration % 1000 == 0 and iteration > 0:\n",
    "            save_model(\n",
    "                iteration,\n",
    "                Gen.state_dict(),\n",
    "                optim_G.state_dict(),\n",
    "                loss_G,\n",
    "                GENERATOR_MODEL_PATH,\n",
    "                Disc.state_dict(),\n",
    "                optim_D.state_dict(),\n",
    "                loss_D,\n",
    "                DISCRIMINATOR_MODEL_PATH\n",
    "            )\n",
    "\n",
    "    save_model(\n",
    "        iteration,\n",
    "        Gen.state_dict(),\n",
    "        optim_G.state_dict(),\n",
    "        loss_G,\n",
    "        GENERATOR_MODEL_PATH,\n",
    "        Disc.state_dict(),\n",
    "        optim_D.state_dict(),\n",
    "        loss_D,\n",
    "        DISCRIMINATOR_MODEL_PATH\n",
    "    )\n",
    "    \n",
    "    return (\n",
    "        Gen.state_dict(),\n",
    "        optim_G.state_dict(),\n",
    "        loss_G,\n",
    "        GENERATOR_MODEL_PATH,\n",
    "        Disc.state_dict(),\n",
    "        optim_D.state_dict(),\n",
    "        loss_D,\n",
    "        DISCRIMINATOR_MODEL_PATH\n",
    "    )\n",
    "\n",
    "res = main()"
   ]
  },
  {
   "cell_type": "code",
   "execution_count": null,
   "metadata": {
    "id": "J5f5a9PpIqrl"
   },
   "outputs": [],
   "source": [
    "# Sunumda gösterilebilecekler:\n",
    "# 1. _2 ile biten image lar (Done)\n",
    "# NIST karşılaştırması ve beklenen çalışma şekli. Hiç train edilmeden ve train edilmişken ki hali?\n",
    "# CPU inference hızı.\n",
    "# CPU inference da quantization aware yapalım ve hızını karşılaştıralım.\n",
    "# Neden GAN kullandığımız destekelyecek referanslar verelim.\n",
    "# Sonraki adımların neler olacağını anlatalım."
   ]
  },
  {
   "cell_type": "code",
   "execution_count": null,
   "metadata": {
    "id": "XuX3Ptp_Zh4E"
   },
   "outputs": [],
   "source": [
    "# 200 mb lık bir alanda train edebiliyoruz."
   ]
  },
  {
   "cell_type": "code",
   "execution_count": null,
   "metadata": {},
   "outputs": [],
   "source": []
  }
 ],
 "metadata": {
  "accelerator": "GPU",
  "availableInstances": [
   {
    "_defaultOrder": 0,
    "_isFastLaunch": true,
    "category": "General purpose",
    "gpuNum": 0,
    "hideHardwareSpecs": false,
    "memoryGiB": 4,
    "name": "ml.t3.medium",
    "vcpuNum": 2
   },
   {
    "_defaultOrder": 1,
    "_isFastLaunch": false,
    "category": "General purpose",
    "gpuNum": 0,
    "hideHardwareSpecs": false,
    "memoryGiB": 8,
    "name": "ml.t3.large",
    "vcpuNum": 2
   },
   {
    "_defaultOrder": 2,
    "_isFastLaunch": false,
    "category": "General purpose",
    "gpuNum": 0,
    "hideHardwareSpecs": false,
    "memoryGiB": 16,
    "name": "ml.t3.xlarge",
    "vcpuNum": 4
   },
   {
    "_defaultOrder": 3,
    "_isFastLaunch": false,
    "category": "General purpose",
    "gpuNum": 0,
    "hideHardwareSpecs": false,
    "memoryGiB": 32,
    "name": "ml.t3.2xlarge",
    "vcpuNum": 8
   },
   {
    "_defaultOrder": 4,
    "_isFastLaunch": true,
    "category": "General purpose",
    "gpuNum": 0,
    "hideHardwareSpecs": false,
    "memoryGiB": 8,
    "name": "ml.m5.large",
    "vcpuNum": 2
   },
   {
    "_defaultOrder": 5,
    "_isFastLaunch": false,
    "category": "General purpose",
    "gpuNum": 0,
    "hideHardwareSpecs": false,
    "memoryGiB": 16,
    "name": "ml.m5.xlarge",
    "vcpuNum": 4
   },
   {
    "_defaultOrder": 6,
    "_isFastLaunch": false,
    "category": "General purpose",
    "gpuNum": 0,
    "hideHardwareSpecs": false,
    "memoryGiB": 32,
    "name": "ml.m5.2xlarge",
    "vcpuNum": 8
   },
   {
    "_defaultOrder": 7,
    "_isFastLaunch": false,
    "category": "General purpose",
    "gpuNum": 0,
    "hideHardwareSpecs": false,
    "memoryGiB": 64,
    "name": "ml.m5.4xlarge",
    "vcpuNum": 16
   },
   {
    "_defaultOrder": 8,
    "_isFastLaunch": false,
    "category": "General purpose",
    "gpuNum": 0,
    "hideHardwareSpecs": false,
    "memoryGiB": 128,
    "name": "ml.m5.8xlarge",
    "vcpuNum": 32
   },
   {
    "_defaultOrder": 9,
    "_isFastLaunch": false,
    "category": "General purpose",
    "gpuNum": 0,
    "hideHardwareSpecs": false,
    "memoryGiB": 192,
    "name": "ml.m5.12xlarge",
    "vcpuNum": 48
   },
   {
    "_defaultOrder": 10,
    "_isFastLaunch": false,
    "category": "General purpose",
    "gpuNum": 0,
    "hideHardwareSpecs": false,
    "memoryGiB": 256,
    "name": "ml.m5.16xlarge",
    "vcpuNum": 64
   },
   {
    "_defaultOrder": 11,
    "_isFastLaunch": false,
    "category": "General purpose",
    "gpuNum": 0,
    "hideHardwareSpecs": false,
    "memoryGiB": 384,
    "name": "ml.m5.24xlarge",
    "vcpuNum": 96
   },
   {
    "_defaultOrder": 12,
    "_isFastLaunch": false,
    "category": "General purpose",
    "gpuNum": 0,
    "hideHardwareSpecs": false,
    "memoryGiB": 8,
    "name": "ml.m5d.large",
    "vcpuNum": 2
   },
   {
    "_defaultOrder": 13,
    "_isFastLaunch": false,
    "category": "General purpose",
    "gpuNum": 0,
    "hideHardwareSpecs": false,
    "memoryGiB": 16,
    "name": "ml.m5d.xlarge",
    "vcpuNum": 4
   },
   {
    "_defaultOrder": 14,
    "_isFastLaunch": false,
    "category": "General purpose",
    "gpuNum": 0,
    "hideHardwareSpecs": false,
    "memoryGiB": 32,
    "name": "ml.m5d.2xlarge",
    "vcpuNum": 8
   },
   {
    "_defaultOrder": 15,
    "_isFastLaunch": false,
    "category": "General purpose",
    "gpuNum": 0,
    "hideHardwareSpecs": false,
    "memoryGiB": 64,
    "name": "ml.m5d.4xlarge",
    "vcpuNum": 16
   },
   {
    "_defaultOrder": 16,
    "_isFastLaunch": false,
    "category": "General purpose",
    "gpuNum": 0,
    "hideHardwareSpecs": false,
    "memoryGiB": 128,
    "name": "ml.m5d.8xlarge",
    "vcpuNum": 32
   },
   {
    "_defaultOrder": 17,
    "_isFastLaunch": false,
    "category": "General purpose",
    "gpuNum": 0,
    "hideHardwareSpecs": false,
    "memoryGiB": 192,
    "name": "ml.m5d.12xlarge",
    "vcpuNum": 48
   },
   {
    "_defaultOrder": 18,
    "_isFastLaunch": false,
    "category": "General purpose",
    "gpuNum": 0,
    "hideHardwareSpecs": false,
    "memoryGiB": 256,
    "name": "ml.m5d.16xlarge",
    "vcpuNum": 64
   },
   {
    "_defaultOrder": 19,
    "_isFastLaunch": false,
    "category": "General purpose",
    "gpuNum": 0,
    "hideHardwareSpecs": false,
    "memoryGiB": 384,
    "name": "ml.m5d.24xlarge",
    "vcpuNum": 96
   },
   {
    "_defaultOrder": 20,
    "_isFastLaunch": false,
    "category": "General purpose",
    "gpuNum": 0,
    "hideHardwareSpecs": true,
    "memoryGiB": 0,
    "name": "ml.geospatial.interactive",
    "supportedImageNames": [
     "sagemaker-geospatial-v1-0"
    ],
    "vcpuNum": 0
   },
   {
    "_defaultOrder": 21,
    "_isFastLaunch": true,
    "category": "Compute optimized",
    "gpuNum": 0,
    "hideHardwareSpecs": false,
    "memoryGiB": 4,
    "name": "ml.c5.large",
    "vcpuNum": 2
   },
   {
    "_defaultOrder": 22,
    "_isFastLaunch": false,
    "category": "Compute optimized",
    "gpuNum": 0,
    "hideHardwareSpecs": false,
    "memoryGiB": 8,
    "name": "ml.c5.xlarge",
    "vcpuNum": 4
   },
   {
    "_defaultOrder": 23,
    "_isFastLaunch": false,
    "category": "Compute optimized",
    "gpuNum": 0,
    "hideHardwareSpecs": false,
    "memoryGiB": 16,
    "name": "ml.c5.2xlarge",
    "vcpuNum": 8
   },
   {
    "_defaultOrder": 24,
    "_isFastLaunch": false,
    "category": "Compute optimized",
    "gpuNum": 0,
    "hideHardwareSpecs": false,
    "memoryGiB": 32,
    "name": "ml.c5.4xlarge",
    "vcpuNum": 16
   },
   {
    "_defaultOrder": 25,
    "_isFastLaunch": false,
    "category": "Compute optimized",
    "gpuNum": 0,
    "hideHardwareSpecs": false,
    "memoryGiB": 72,
    "name": "ml.c5.9xlarge",
    "vcpuNum": 36
   },
   {
    "_defaultOrder": 26,
    "_isFastLaunch": false,
    "category": "Compute optimized",
    "gpuNum": 0,
    "hideHardwareSpecs": false,
    "memoryGiB": 96,
    "name": "ml.c5.12xlarge",
    "vcpuNum": 48
   },
   {
    "_defaultOrder": 27,
    "_isFastLaunch": false,
    "category": "Compute optimized",
    "gpuNum": 0,
    "hideHardwareSpecs": false,
    "memoryGiB": 144,
    "name": "ml.c5.18xlarge",
    "vcpuNum": 72
   },
   {
    "_defaultOrder": 28,
    "_isFastLaunch": false,
    "category": "Compute optimized",
    "gpuNum": 0,
    "hideHardwareSpecs": false,
    "memoryGiB": 192,
    "name": "ml.c5.24xlarge",
    "vcpuNum": 96
   },
   {
    "_defaultOrder": 29,
    "_isFastLaunch": true,
    "category": "Accelerated computing",
    "gpuNum": 1,
    "hideHardwareSpecs": false,
    "memoryGiB": 16,
    "name": "ml.g4dn.xlarge",
    "vcpuNum": 4
   },
   {
    "_defaultOrder": 30,
    "_isFastLaunch": false,
    "category": "Accelerated computing",
    "gpuNum": 1,
    "hideHardwareSpecs": false,
    "memoryGiB": 32,
    "name": "ml.g4dn.2xlarge",
    "vcpuNum": 8
   },
   {
    "_defaultOrder": 31,
    "_isFastLaunch": false,
    "category": "Accelerated computing",
    "gpuNum": 1,
    "hideHardwareSpecs": false,
    "memoryGiB": 64,
    "name": "ml.g4dn.4xlarge",
    "vcpuNum": 16
   },
   {
    "_defaultOrder": 32,
    "_isFastLaunch": false,
    "category": "Accelerated computing",
    "gpuNum": 1,
    "hideHardwareSpecs": false,
    "memoryGiB": 128,
    "name": "ml.g4dn.8xlarge",
    "vcpuNum": 32
   },
   {
    "_defaultOrder": 33,
    "_isFastLaunch": false,
    "category": "Accelerated computing",
    "gpuNum": 4,
    "hideHardwareSpecs": false,
    "memoryGiB": 192,
    "name": "ml.g4dn.12xlarge",
    "vcpuNum": 48
   },
   {
    "_defaultOrder": 34,
    "_isFastLaunch": false,
    "category": "Accelerated computing",
    "gpuNum": 1,
    "hideHardwareSpecs": false,
    "memoryGiB": 256,
    "name": "ml.g4dn.16xlarge",
    "vcpuNum": 64
   },
   {
    "_defaultOrder": 35,
    "_isFastLaunch": false,
    "category": "Accelerated computing",
    "gpuNum": 1,
    "hideHardwareSpecs": false,
    "memoryGiB": 61,
    "name": "ml.p3.2xlarge",
    "vcpuNum": 8
   },
   {
    "_defaultOrder": 36,
    "_isFastLaunch": false,
    "category": "Accelerated computing",
    "gpuNum": 4,
    "hideHardwareSpecs": false,
    "memoryGiB": 244,
    "name": "ml.p3.8xlarge",
    "vcpuNum": 32
   },
   {
    "_defaultOrder": 37,
    "_isFastLaunch": false,
    "category": "Accelerated computing",
    "gpuNum": 8,
    "hideHardwareSpecs": false,
    "memoryGiB": 488,
    "name": "ml.p3.16xlarge",
    "vcpuNum": 64
   },
   {
    "_defaultOrder": 38,
    "_isFastLaunch": false,
    "category": "Accelerated computing",
    "gpuNum": 8,
    "hideHardwareSpecs": false,
    "memoryGiB": 768,
    "name": "ml.p3dn.24xlarge",
    "vcpuNum": 96
   },
   {
    "_defaultOrder": 39,
    "_isFastLaunch": false,
    "category": "Memory Optimized",
    "gpuNum": 0,
    "hideHardwareSpecs": false,
    "memoryGiB": 16,
    "name": "ml.r5.large",
    "vcpuNum": 2
   },
   {
    "_defaultOrder": 40,
    "_isFastLaunch": false,
    "category": "Memory Optimized",
    "gpuNum": 0,
    "hideHardwareSpecs": false,
    "memoryGiB": 32,
    "name": "ml.r5.xlarge",
    "vcpuNum": 4
   },
   {
    "_defaultOrder": 41,
    "_isFastLaunch": false,
    "category": "Memory Optimized",
    "gpuNum": 0,
    "hideHardwareSpecs": false,
    "memoryGiB": 64,
    "name": "ml.r5.2xlarge",
    "vcpuNum": 8
   },
   {
    "_defaultOrder": 42,
    "_isFastLaunch": false,
    "category": "Memory Optimized",
    "gpuNum": 0,
    "hideHardwareSpecs": false,
    "memoryGiB": 128,
    "name": "ml.r5.4xlarge",
    "vcpuNum": 16
   },
   {
    "_defaultOrder": 43,
    "_isFastLaunch": false,
    "category": "Memory Optimized",
    "gpuNum": 0,
    "hideHardwareSpecs": false,
    "memoryGiB": 256,
    "name": "ml.r5.8xlarge",
    "vcpuNum": 32
   },
   {
    "_defaultOrder": 44,
    "_isFastLaunch": false,
    "category": "Memory Optimized",
    "gpuNum": 0,
    "hideHardwareSpecs": false,
    "memoryGiB": 384,
    "name": "ml.r5.12xlarge",
    "vcpuNum": 48
   },
   {
    "_defaultOrder": 45,
    "_isFastLaunch": false,
    "category": "Memory Optimized",
    "gpuNum": 0,
    "hideHardwareSpecs": false,
    "memoryGiB": 512,
    "name": "ml.r5.16xlarge",
    "vcpuNum": 64
   },
   {
    "_defaultOrder": 46,
    "_isFastLaunch": false,
    "category": "Memory Optimized",
    "gpuNum": 0,
    "hideHardwareSpecs": false,
    "memoryGiB": 768,
    "name": "ml.r5.24xlarge",
    "vcpuNum": 96
   },
   {
    "_defaultOrder": 47,
    "_isFastLaunch": false,
    "category": "Accelerated computing",
    "gpuNum": 1,
    "hideHardwareSpecs": false,
    "memoryGiB": 16,
    "name": "ml.g5.xlarge",
    "vcpuNum": 4
   },
   {
    "_defaultOrder": 48,
    "_isFastLaunch": false,
    "category": "Accelerated computing",
    "gpuNum": 1,
    "hideHardwareSpecs": false,
    "memoryGiB": 32,
    "name": "ml.g5.2xlarge",
    "vcpuNum": 8
   },
   {
    "_defaultOrder": 49,
    "_isFastLaunch": false,
    "category": "Accelerated computing",
    "gpuNum": 1,
    "hideHardwareSpecs": false,
    "memoryGiB": 64,
    "name": "ml.g5.4xlarge",
    "vcpuNum": 16
   },
   {
    "_defaultOrder": 50,
    "_isFastLaunch": false,
    "category": "Accelerated computing",
    "gpuNum": 1,
    "hideHardwareSpecs": false,
    "memoryGiB": 128,
    "name": "ml.g5.8xlarge",
    "vcpuNum": 32
   },
   {
    "_defaultOrder": 51,
    "_isFastLaunch": false,
    "category": "Accelerated computing",
    "gpuNum": 1,
    "hideHardwareSpecs": false,
    "memoryGiB": 256,
    "name": "ml.g5.16xlarge",
    "vcpuNum": 64
   },
   {
    "_defaultOrder": 52,
    "_isFastLaunch": false,
    "category": "Accelerated computing",
    "gpuNum": 4,
    "hideHardwareSpecs": false,
    "memoryGiB": 192,
    "name": "ml.g5.12xlarge",
    "vcpuNum": 48
   },
   {
    "_defaultOrder": 53,
    "_isFastLaunch": false,
    "category": "Accelerated computing",
    "gpuNum": 4,
    "hideHardwareSpecs": false,
    "memoryGiB": 384,
    "name": "ml.g5.24xlarge",
    "vcpuNum": 96
   },
   {
    "_defaultOrder": 54,
    "_isFastLaunch": false,
    "category": "Accelerated computing",
    "gpuNum": 8,
    "hideHardwareSpecs": false,
    "memoryGiB": 768,
    "name": "ml.g5.48xlarge",
    "vcpuNum": 192
   },
   {
    "_defaultOrder": 55,
    "_isFastLaunch": false,
    "category": "Accelerated computing",
    "gpuNum": 8,
    "hideHardwareSpecs": false,
    "memoryGiB": 1152,
    "name": "ml.p4d.24xlarge",
    "vcpuNum": 96
   },
   {
    "_defaultOrder": 56,
    "_isFastLaunch": false,
    "category": "Accelerated computing",
    "gpuNum": 8,
    "hideHardwareSpecs": false,
    "memoryGiB": 1152,
    "name": "ml.p4de.24xlarge",
    "vcpuNum": 96
   },
   {
    "_defaultOrder": 57,
    "_isFastLaunch": false,
    "category": "Accelerated computing",
    "gpuNum": 0,
    "hideHardwareSpecs": false,
    "memoryGiB": 32,
    "name": "ml.trn1.2xlarge",
    "vcpuNum": 8
   },
   {
    "_defaultOrder": 58,
    "_isFastLaunch": false,
    "category": "Accelerated computing",
    "gpuNum": 0,
    "hideHardwareSpecs": false,
    "memoryGiB": 512,
    "name": "ml.trn1.32xlarge",
    "vcpuNum": 128
   },
   {
    "_defaultOrder": 59,
    "_isFastLaunch": false,
    "category": "Accelerated computing",
    "gpuNum": 0,
    "hideHardwareSpecs": false,
    "memoryGiB": 512,
    "name": "ml.trn1n.32xlarge",
    "vcpuNum": 128
   }
  ],
  "colab": {
   "collapsed_sections": [
    "26DrqOv5SqTq",
    "hoFjqB3lWWTV",
    "mKiI0spzDOOc",
    "gIQNvRJ3dtG2",
    "nmRmmxxVdiu_"
   ],
   "gpuType": "T4",
   "provenance": []
  },
  "kernelspec": {
   "display_name": "Python 3 (PyTorch 2.0.0 Python 3.10 GPU Optimized)",
   "language": "python",
   "name": "python3__SAGEMAKER_INTERNAL__arn:aws:sagemaker:eu-west-1:470317259841:image/pytorch-2.0.0-gpu-py310"
  },
  "language_info": {
   "codemirror_mode": {
    "name": "ipython",
    "version": 3
   },
   "file_extension": ".py",
   "mimetype": "text/x-python",
   "name": "python",
   "nbconvert_exporter": "python",
   "pygments_lexer": "ipython3",
   "version": "3.10.8"
  }
 },
 "nbformat": 4,
 "nbformat_minor": 4
}
